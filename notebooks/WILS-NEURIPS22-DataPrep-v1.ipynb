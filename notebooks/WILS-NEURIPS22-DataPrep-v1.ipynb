{
  "cells": [
    {
      "cell_type": "markdown",
      "metadata": {
        "id": "vThTdOPUEup-"
      },
      "source": [
        "<a href=\"https://colab.research.google.com/github/Hackathorn/WILS-NEURIPS22/blob/master/notebooks/WILS-NEURIPS22-DataPrep-v1.ipynb\" target=\"_parent\"><img src=\"https://colab.research.google.com/assets/colab-badge.svg\" alt=\"Open In Colab\"/></a>"
      ]
    },
    {
      "cell_type": "markdown",
      "metadata": {
        "id": "2s9Stif2FMU9"
      },
      "source": [
        "# Detection of Localized Manifords\n",
        "\n",
        "...Using NEURIPS22 Paper Abstracts. Derived from the Cohere Dashboard at https://dashboard.cohere.ai/playground/embed. A sample of 33 NEURIPS22 accepted papers (title + abstract) were extracted."
      ]
    },
    {
      "cell_type": "markdown",
      "metadata": {
        "id": "IGJxu8LtFsMy"
      },
      "source": [
        "## Configure"
      ]
    },
    {
      "cell_type": "code",
      "execution_count": 1,
      "metadata": {
        "id": "M93KRJQfcLvb"
      },
      "outputs": [],
      "source": [
        "%pip install -Uqqq cohere"
      ]
    },
    {
      "cell_type": "code",
      "execution_count": 2,
      "metadata": {
        "id": "8MVFcNAXgh1G"
      },
      "outputs": [],
      "source": [
        "import numpy as np\n",
        "import pandas as pd\n",
        "import matplotlib.pyplot as plt\n",
        "import seaborn as sns\n",
        "import cohere"
      ]
    },
    {
      "cell_type": "markdown",
      "metadata": {
        "id": "LVs99gSWG6le"
      },
      "source": [
        "## Load and embed data"
      ]
    },
    {
      "cell_type": "code",
      "execution_count": 3,
      "metadata": {
        "colab": {
          "base_uri": "https://localhost:8080/"
        },
        "id": "BkA-zP1OHBfp",
        "outputId": "fae74383-6946-48e4-c940-d43fa59246f6"
      },
      "outputs": [
        {
          "output_type": "stream",
          "name": "stdout",
          "text": [
            "Cloning into 'WILS-NEURIPS22'...\n",
            "remote: Enumerating objects: 59, done.\u001b[K\n",
            "remote: Counting objects: 100% (59/59), done.\u001b[K\n",
            "remote: Compressing objects: 100% (45/45), done.\u001b[K\n",
            "remote: Total 59 (delta 22), reused 45 (delta 13), pack-reused 0\u001b[K\n",
            "Unpacking objects: 100% (59/59), 470.10 KiB | 8.55 MiB/s, done.\n"
          ]
        }
      ],
      "source": [
        "# upload repo locally\n",
        "!rm -rf /content/WILS-NEURIPS22\n",
        "!git clone https://github.com/Hackathorn/WILS-NEURIPS22.git"
      ]
    },
    {
      "cell_type": "code",
      "execution_count": 9,
      "metadata": {
        "id": "WZ85SUeGHXJG"
      },
      "outputs": [],
      "source": [
        "# create list of abstracts to embed\n",
        "with open(\"./WILS-NEURIPS22/doc/NEURIPS22-abstract-sample-UTF8.txt\",   # for Colab\n",
        "# with open(\"../doc/NEURIPS22-abstract-sample-UTF8.txt\",  # for VScode\n",
        "          encoding='utf-8', errors='ignore') as f:\n",
        "    abstracts = f.readlines()\n",
        "\n",
        "# ...plus their paper titles\n",
        "titles = [a.split('.')[0].strip() for a in abstracts]"
      ]
    },
    {
      "cell_type": "code",
      "execution_count": 18,
      "metadata": {
        "colab": {
          "base_uri": "https://localhost:8080/"
        },
        "id": "PTCQgxxZN3gr",
        "outputId": "d6872fd9-990d-4fef-fc8b-278b0108b8b2"
      },
      "outputs": [
        {
          "output_type": "execute_result",
          "data": {
            "text/plain": [
              "['On Kernel-Target Alignment',\n",
              " 'On the Convergence of Prior-Guided Zeroth-Order Optimization Algorithms',\n",
              " 'Communication Complexity of Distributed Convex Learning and Optimization',\n",
              " 'Straggler Mitigation in Distributed Optimization Through Data Encoding',\n",
              " 'Finite Sample Convergence Rates of Zero-Order Stochastic Optimization Methods',\n",
              " 'Efficient Pure Exploration in Adaptive Round model',\n",
              " 'On Top-k Selection in Multi-Armed Bandits and Hidden Bipartite Graphs',\n",
              " 'MaxGap Bandit: Adaptive Algorithms for Approximate Ranking',\n",
              " 'A Smoothed Analysis of the Greedy Algorithm for the Linear Contextual Bandit Problem',\n",
              " 'Identifying Outlier Arms in Multi-Armed Bandit']"
            ]
          },
          "metadata": {},
          "execution_count": 18
        }
      ],
      "source": [
        "titles[:10]\n"
      ]
    },
    {
      "cell_type": "code",
      "execution_count": 19,
      "metadata": {
        "colab": {
          "base_uri": "https://localhost:8080/"
        },
        "id": "vfwOLD85OFYK",
        "outputId": "bbac7bea-6ba2-4237-cc4a-bb903ef35d6d"
      },
      "outputs": [
        {
          "output_type": "stream",
          "name": "stdout",
          "text": [
            "(33, 4096)\n",
            "-9.9375\n",
            "10.8828125\n",
            "-0.0009693962722598167\n",
            "1.2779840980922614\n"
          ]
        }
      ],
      "source": [
        "# generate embeddings for abstracts\n",
        "co = cohere.Client('9UQ2FJ61TaGMhZKBoiY7JeGa23qlEyPqmpNjER97') # This is your trial API key\n",
        "response = co.embed(\n",
        "  model='embed-english-v2.0',\n",
        "  texts=abstracts,\n",
        ")\n",
        "# convert to np.array\n",
        "embeddings = np.array(response.embeddings)\n",
        "\n",
        "# show stats on embeddings\n",
        "print(embeddings.shape)\n",
        "print(embeddings.min())\n",
        "print(embeddings.max())\n",
        "print(embeddings.mean())\n",
        "print(embeddings.std())\n"
      ]
    },
    {
      "cell_type": "markdown",
      "source": [
        "## Find the cluster\n",
        "\n",
        "Trying various methods (with help from ChatGPT)"
      ],
      "metadata": {
        "id": "gtNdM6BUHKoX"
      }
    },
    {
      "cell_type": "markdown",
      "source": [
        "Elbow Method: The elbow method helps identify the number of clusters by plotting the within-cluster sum of squares (WCSS) against the number of clusters. The idea is to look for a point on the plot where adding more clusters does not significantly decrease the WCSS. This point resembles an elbow, hence the name. You can use the KMeans inertia_ attribute to calculate the WCSS."
      ],
      "metadata": {
        "id": "hxCdSywhHf5M"
      }
    },
    {
      "cell_type": "code",
      "source": [
        "import matplotlib.pyplot as plt\n",
        "from sklearn.cluster import KMeans\n",
        "\n",
        "# Assuming you have a list of 33 objects with their corresponding 4096-dimensional vectors\n",
        "# objects = [...]  # Replace [...] with your actual object list\n",
        "vectors = embeddings\n",
        "\n",
        "# Define the range of clusters to try\n",
        "min_clusters = 3\n",
        "max_clusters = 10\n",
        "\n",
        "# Calculate the within-cluster sum of squares (WCSS) for different cluster numbers\n",
        "wcss = []\n",
        "for num_clusters in range(min_clusters, max_clusters + 1):\n",
        "    kmeans = KMeans(n_clusters=num_clusters)\n",
        "    kmeans.fit(vectors)\n",
        "    wcss.append(kmeans.inertia_)\n",
        "\n",
        "# Plot the WCSS values against the number of clusters\n",
        "plt.plot(range(min_clusters, max_clusters + 1), wcss)\n",
        "plt.xlabel('Number of Clusters')\n",
        "plt.ylabel('WCSS')\n",
        "plt.title('Elbow Method')\n",
        "plt.show()\n"
      ],
      "metadata": {
        "id": "QGLTXaYDHZt0",
        "outputId": "a54f47d1-93c5-4da9-9606-efedd71ef2de",
        "colab": {
          "base_uri": "https://localhost:8080/",
          "height": 778
        }
      },
      "execution_count": 25,
      "outputs": [
        {
          "output_type": "stream",
          "name": "stderr",
          "text": [
            "/usr/local/lib/python3.10/dist-packages/sklearn/cluster/_kmeans.py:870: FutureWarning: The default value of `n_init` will change from 10 to 'auto' in 1.4. Set the value of `n_init` explicitly to suppress the warning\n",
            "  warnings.warn(\n",
            "/usr/local/lib/python3.10/dist-packages/sklearn/cluster/_kmeans.py:870: FutureWarning: The default value of `n_init` will change from 10 to 'auto' in 1.4. Set the value of `n_init` explicitly to suppress the warning\n",
            "  warnings.warn(\n",
            "/usr/local/lib/python3.10/dist-packages/sklearn/cluster/_kmeans.py:870: FutureWarning: The default value of `n_init` will change from 10 to 'auto' in 1.4. Set the value of `n_init` explicitly to suppress the warning\n",
            "  warnings.warn(\n",
            "/usr/local/lib/python3.10/dist-packages/sklearn/cluster/_kmeans.py:870: FutureWarning: The default value of `n_init` will change from 10 to 'auto' in 1.4. Set the value of `n_init` explicitly to suppress the warning\n",
            "  warnings.warn(\n",
            "/usr/local/lib/python3.10/dist-packages/sklearn/cluster/_kmeans.py:870: FutureWarning: The default value of `n_init` will change from 10 to 'auto' in 1.4. Set the value of `n_init` explicitly to suppress the warning\n",
            "  warnings.warn(\n",
            "/usr/local/lib/python3.10/dist-packages/sklearn/cluster/_kmeans.py:870: FutureWarning: The default value of `n_init` will change from 10 to 'auto' in 1.4. Set the value of `n_init` explicitly to suppress the warning\n",
            "  warnings.warn(\n",
            "/usr/local/lib/python3.10/dist-packages/sklearn/cluster/_kmeans.py:870: FutureWarning: The default value of `n_init` will change from 10 to 'auto' in 1.4. Set the value of `n_init` explicitly to suppress the warning\n",
            "  warnings.warn(\n",
            "/usr/local/lib/python3.10/dist-packages/sklearn/cluster/_kmeans.py:870: FutureWarning: The default value of `n_init` will change from 10 to 'auto' in 1.4. Set the value of `n_init` explicitly to suppress the warning\n",
            "  warnings.warn(\n"
          ]
        },
        {
          "output_type": "display_data",
          "data": {
            "text/plain": [
              "<Figure size 640x480 with 1 Axes>"
            ],
            "image/png": "[encoded data removed]"
          },
          "metadata": {}
        }
      ]
    },
    {
      "cell_type": "markdown",
      "source": [
        "Silhouette Score: The silhouette score measures the quality of a clustering solution based on both the cohesion within clusters and the separation between clusters. Higher silhouette scores indicate better-defined clusters. You can use the silhouette_score function from the sklearn.metrics module to compute the silhouette score."
      ],
      "metadata": {
        "id": "BoKhZ7-5LVBy"
      }
    },
    {
      "cell_type": "code",
      "source": [
        "from sklearn.metrics import silhouette_score\n",
        "\n",
        "# Assuming you have a list of 33 objects with their corresponding 4096-dimensional vectors\n",
        "# objects = [...]  # Replace [...] with your actual object list  NOT USED\n",
        "vectors = embeddings\n",
        "\n",
        "# Define the range of clusters to try\n",
        "min_clusters = 3\n",
        "max_clusters = 10\n",
        "\n",
        "# Calculate the silhouette score for different cluster numbers\n",
        "silhouette_scores = []\n",
        "for num_clusters in range(min_clusters, max_clusters + 1):\n",
        "    kmeans = KMeans(n_clusters=num_clusters)\n",
        "    kmeans.fit(vectors)\n",
        "    labels = kmeans.labels_\n",
        "    score = silhouette_score(vectors, labels)\n",
        "    silhouette_scores.append(score)\n",
        "\n",
        "# Plot the silhouette scores against the number of clusters\n",
        "plt.plot(range(min_clusters, max_clusters + 1), silhouette_scores)\n",
        "plt.xlabel('Number of Clusters')\n",
        "plt.ylabel('Silhouette Score')\n",
        "plt.title('Silhouette Score')\n",
        "plt.show()\n"
      ],
      "metadata": {
        "id": "vJfy760FLUPn",
        "outputId": "47c89601-3cc8-4c1f-f8a0-ec15feb61253",
        "colab": {
          "base_uri": "https://localhost:8080/",
          "height": 778
        }
      },
      "execution_count": 27,
      "outputs": [
        {
          "output_type": "stream",
          "name": "stderr",
          "text": [
            "/usr/local/lib/python3.10/dist-packages/sklearn/cluster/_kmeans.py:870: FutureWarning: The default value of `n_init` will change from 10 to 'auto' in 1.4. Set the value of `n_init` explicitly to suppress the warning\n",
            "  warnings.warn(\n",
            "/usr/local/lib/python3.10/dist-packages/sklearn/cluster/_kmeans.py:870: FutureWarning: The default value of `n_init` will change from 10 to 'auto' in 1.4. Set the value of `n_init` explicitly to suppress the warning\n",
            "  warnings.warn(\n",
            "/usr/local/lib/python3.10/dist-packages/sklearn/cluster/_kmeans.py:870: FutureWarning: The default value of `n_init` will change from 10 to 'auto' in 1.4. Set the value of `n_init` explicitly to suppress the warning\n",
            "  warnings.warn(\n",
            "/usr/local/lib/python3.10/dist-packages/sklearn/cluster/_kmeans.py:870: FutureWarning: The default value of `n_init` will change from 10 to 'auto' in 1.4. Set the value of `n_init` explicitly to suppress the warning\n",
            "  warnings.warn(\n",
            "/usr/local/lib/python3.10/dist-packages/sklearn/cluster/_kmeans.py:870: FutureWarning: The default value of `n_init` will change from 10 to 'auto' in 1.4. Set the value of `n_init` explicitly to suppress the warning\n",
            "  warnings.warn(\n",
            "/usr/local/lib/python3.10/dist-packages/sklearn/cluster/_kmeans.py:870: FutureWarning: The default value of `n_init` will change from 10 to 'auto' in 1.4. Set the value of `n_init` explicitly to suppress the warning\n",
            "  warnings.warn(\n",
            "/usr/local/lib/python3.10/dist-packages/sklearn/cluster/_kmeans.py:870: FutureWarning: The default value of `n_init` will change from 10 to 'auto' in 1.4. Set the value of `n_init` explicitly to suppress the warning\n",
            "  warnings.warn(\n",
            "/usr/local/lib/python3.10/dist-packages/sklearn/cluster/_kmeans.py:870: FutureWarning: The default value of `n_init` will change from 10 to 'auto' in 1.4. Set the value of `n_init` explicitly to suppress the warning\n",
            "  warnings.warn(\n"
          ]
        },
        {
          "output_type": "display_data",
          "data": {
            "text/plain": [
              "<Figure size 640x480 with 1 Axes>"
            ],
            "image/png": "[encoded data removed]"
          },
          "metadata": {}
        }
      ]
    },
    {
      "cell_type": "markdown",
      "source": [
        "To find which object is assigned to which cluster using the K-means algorithm, you can access the labels_ attribute of the KMeans object. The labels_ attribute contains the cluster labels assigned to each object in the same order as the input data.\n",
        "\n",
        "Here's an updated version of the code that includes printing the assigned cluster labels for each object:"
      ],
      "metadata": {
        "id": "-EzqUq7GNAKV"
      }
    },
    {
      "cell_type": "code",
      "source": [
        "from sklearn.cluster import KMeans\n",
        "\n",
        "# Assuming you have a list of 33 objects with their corresponding 4096-dimensional vectors\n",
        "objects = [...]  # Replace [...] with your actual object list\n",
        "vectors = [...]  # Replace [...] with your actual 4096-dimensional vectors\n",
        "\n",
        "# Create a KMeans object with the desired number of clusters\n",
        "num_clusters = 3  # Adjust this value based on your needs\n",
        "kmeans = KMeans(n_clusters=num_clusters)\n",
        "\n",
        "# Fit the KMeans model to your data\n",
        "kmeans.fit(vectors)\n",
        "\n",
        "# Get the predicted cluster labels for each object\n",
        "labels = kmeans.labels_\n",
        "\n",
        "# Print the cluster labels for each object\n",
        "for i in range(len(objects)):\n",
        "    print(f\"Object: {objects[i]}, Cluster: {labels[i]}\")\n"
      ],
      "metadata": {
        "id": "yPcNMi0INEVE"
      },
      "execution_count": null,
      "outputs": []
    },
    {
      "cell_type": "code",
      "execution_count": null,
      "metadata": {
        "colab": {
          "base_uri": "https://localhost:8080/"
        },
        "id": "J8srlvZnlxfZ",
        "outputId": "e9d3c4c9-e1fc-459f-eaa0-fb0d994a8bd4"
      },
      "outputs": [
        {
          "name": "stdout",
          "output_type": "stream",
          "text": [
            "\u001b[2K     \u001b[90m━━━━━━━━━━━━━━━━━━━━━━━━━━━━━━━━━━━━━━━━\u001b[0m \u001b[32m88.2/88.2 kB\u001b[0m \u001b[31m4.9 MB/s\u001b[0m eta \u001b[36m0:00:00\u001b[0m\n",
            "\u001b[?25h  Preparing metadata (setup.py) ... \u001b[?25l\u001b[?25hdone\n",
            "\u001b[2K     \u001b[90m━━━━━━━━━━━━━━━━━━━━━━━━━━━━━━━━━━━━━━━━\u001b[0m \u001b[32m1.1/1.1 MB\u001b[0m \u001b[31m39.1 MB/s\u001b[0m eta \u001b[36m0:00:00\u001b[0m\n",
            "\u001b[?25h  Preparing metadata (setup.py) ... \u001b[?25l\u001b[?25hdone\n",
            "  Building wheel for umap-learn (setup.py) ... \u001b[?25l\u001b[?25hdone\n",
            "  Building wheel for pynndescent (setup.py) ... \u001b[?25l\u001b[?25hdone\n"
          ]
        }
      ],
      "source": [
        "!pip install -qq umap-learn"
      ]
    },
    {
      "cell_type": "code",
      "source": [
        "!pip install -qq umap-learn[plot]"
      ],
      "metadata": {
        "id": "8Vc3QX8w0P09",
        "outputId": "3ce6ec13-d235-4f8d-f260-0a327740a617",
        "colab": {
          "base_uri": "https://localhost:8080/"
        }
      },
      "execution_count": 13,
      "outputs": [
        {
          "output_type": "stream",
          "name": "stdout",
          "text": [
            "\u001b[2K     \u001b[90m━━━━━━━━━━━━━━━━━━━━━━━━━━━━━━━━━━━━━━━━\u001b[0m \u001b[32m88.2/88.2 kB\u001b[0m \u001b[31m6.9 MB/s\u001b[0m eta \u001b[36m0:00:00\u001b[0m\n",
            "\u001b[?25h  Preparing metadata (setup.py) ... \u001b[?25l\u001b[?25hdone\n",
            "\u001b[2K     \u001b[90m━━━━━━━━━━━━━━━━━━━━━━━━━━━━━━━━━━━━━━━━\u001b[0m \u001b[32m1.1/1.1 MB\u001b[0m \u001b[31m50.6 MB/s\u001b[0m eta \u001b[36m0:00:00\u001b[0m\n",
            "\u001b[?25h  Preparing metadata (setup.py) ... \u001b[?25l\u001b[?25hdone\n",
            "\u001b[2K     \u001b[90m━━━━━━━━━━━━━━━━━━━━━━━━━━━━━━━━━━━━━━━━\u001b[0m \u001b[32m18.3/18.3 MB\u001b[0m \u001b[31m60.5 MB/s\u001b[0m eta \u001b[36m0:00:00\u001b[0m\n",
            "\u001b[2K     \u001b[90m━━━━━━━━━━━━━━━━━━━━━━━━━━━━━━━━━━━━━━━━\u001b[0m \u001b[32m76.5/76.5 kB\u001b[0m \u001b[31m7.7 MB/s\u001b[0m eta \u001b[36m0:00:00\u001b[0m\n",
            "\u001b[?25h  Preparing metadata (setup.py) ... \u001b[?25l\u001b[?25hdone\n",
            "  Building wheel for pynndescent (setup.py) ... \u001b[?25l\u001b[?25hdone\n",
            "  Building wheel for umap-learn (setup.py) ... \u001b[?25l\u001b[?25hdone\n",
            "  Building wheel for datashape (setup.py) ... \u001b[?25l\u001b[?25hdone\n"
          ]
        }
      ]
    },
    {
      "cell_type": "code",
      "source": [
        "import umap"
      ],
      "metadata": {
        "id": "xl8J-kDM0X3V"
      },
      "execution_count": 14,
      "outputs": []
    },
    {
      "cell_type": "code",
      "source": [
        "# prompt: use UMAP to find clusters in embeddings without reducing dimensionality, given mapping of abstracts to cluster_ids\n",
        "\n",
        "# find cluster IDs for each abstract\n",
        "clusterer = umap.UMAP(n_neighbors=100, min_dist=0.1, )\n",
        "cluster_ids = clusterer.fit\n",
        "# cluster_ids = clusterer.fit_predict(embeddings)\n",
        "\n",
        "# plot UMAP embedding of abstracts, colored by cluster ID\n",
        "plt.figure(figsize=(12, 12))\n",
        "sns.scatterplot(x=embeddings[:, 0], y=embeddings[:, 1], hue=cluster_ids, palette=\"tab10\")\n",
        "plt.title(\"UMAP Embedding of Abstracts\")\n",
        "plt.show()"
      ],
      "metadata": {
        "id": "IwM6KVB63y8n"
      },
      "execution_count": null,
      "outputs": []
    },
    {
      "cell_type": "code",
      "source": [
        "cluster_ids\n"
      ],
      "metadata": {
        "id": "w3dE6YgX5WGE",
        "outputId": "74408a65-21d8-4d6f-94c1-d9bd4c055bca",
        "colab": {
          "base_uri": "https://localhost:8080/"
        }
      },
      "execution_count": 24,
      "outputs": [
        {
          "output_type": "execute_result",
          "data": {
            "text/plain": [
              "<bound method UMAP.fit of UMAP(n_neighbors=100)>"
            ]
          },
          "metadata": {},
          "execution_count": 24
        }
      ]
    },
    {
      "cell_type": "code",
      "source": [
        "use UMAP to find clusters in embeddings without reducing dimensionality, given mapping of abstracts to cluster_ids\n"
      ],
      "metadata": {
        "id": "DVZC3juN3Vq9",
        "outputId": "6b082e0e-e409-409b-a366-4b6bf4c91f96",
        "colab": {
          "base_uri": "https://localhost:8080/",
          "height": 133
        }
      },
      "execution_count": 15,
      "outputs": [
        {
          "output_type": "error",
          "ename": "SyntaxError",
          "evalue": "ignored",
          "traceback": [
            "\u001b[0;36m  File \u001b[0;32m\"<ipython-input-15-e37ca608dd2d>\"\u001b[0;36m, line \u001b[0;32m1\u001b[0m\n\u001b[0;31m    use UMAP to find clusters in embeddings without reducing dimensionality, given mapping of abstracts to cluster_ids\u001b[0m\n\u001b[0m        ^\u001b[0m\n\u001b[0;31mSyntaxError\u001b[0m\u001b[0;31m:\u001b[0m invalid syntax\n"
          ]
        }
      ]
    },
    {
      "cell_type": "code",
      "execution_count": null,
      "metadata": {
        "id": "AxYfEKlhlOer"
      },
      "outputs": [],
      "source": [
        "# prompt: Using UMAP, find the clusters in embeddings\n",
        "\n",
        "import umap\n",
        "\n",
        "reducer = umap.UMAP()\n",
        "embedding_umap = reducer.fit_transform(embeddings, )\n"
      ]
    },
    {
      "cell_type": "code",
      "execution_count": null,
      "metadata": {
        "colab": {
          "base_uri": "https://localhost:8080/",
          "height": 366
        },
        "id": "p0FtPWK0mTfo",
        "outputId": "040f542c-5349-495e-bd8e-9a9de06667df"
      },
      "outputs": [
        {
          "ename": "AttributeError",
          "evalue": "ignored",
          "output_type": "error",
          "traceback": [
            "\u001b[0;31m---------------------------------------------------------------------------\u001b[0m",
            "\u001b[0;31mAttributeError\u001b[0m                            Traceback (most recent call last)",
            "\u001b[0;32m<ipython-input-25-2f353e5249ba>\u001b[0m in \u001b[0;36m<cell line: 3>\u001b[0;34m()\u001b[0m\n\u001b[1;32m      1\u001b[0m \u001b[0;31m# prompt: plot the clusters in embedding_map\u001b[0m\u001b[0;34m\u001b[0m\u001b[0;34m\u001b[0m\u001b[0m\n\u001b[1;32m      2\u001b[0m \u001b[0;34m\u001b[0m\u001b[0m\n\u001b[0;32m----> 3\u001b[0;31m \u001b[0mplt\u001b[0m\u001b[0;34m.\u001b[0m\u001b[0mscatter\u001b[0m\u001b[0;34m(\u001b[0m\u001b[0;34m*\u001b[0m\u001b[0membedding_umap\u001b[0m\u001b[0;34m.\u001b[0m\u001b[0mT\u001b[0m\u001b[0;34m,\u001b[0m \u001b[0mc\u001b[0m\u001b[0;34m=\u001b[0m\u001b[0mresponse\u001b[0m\u001b[0;34m.\u001b[0m\u001b[0mcluster_ids\u001b[0m\u001b[0;34m,\u001b[0m \u001b[0mcmap\u001b[0m\u001b[0;34m=\u001b[0m\u001b[0;34m'tab10'\u001b[0m\u001b[0;34m)\u001b[0m\u001b[0;34m\u001b[0m\u001b[0;34m\u001b[0m\u001b[0m\n\u001b[0m\u001b[1;32m      4\u001b[0m \u001b[0mplt\u001b[0m\u001b[0;34m.\u001b[0m\u001b[0mtitle\u001b[0m\u001b[0;34m(\u001b[0m\u001b[0;34m'UMAP visualization of document clusters'\u001b[0m\u001b[0;34m)\u001b[0m\u001b[0;34m\u001b[0m\u001b[0;34m\u001b[0m\u001b[0m\n\u001b[1;32m      5\u001b[0m \u001b[0mplt\u001b[0m\u001b[0;34m.\u001b[0m\u001b[0mshow\u001b[0m\u001b[0;34m(\u001b[0m\u001b[0;34m)\u001b[0m\u001b[0;34m\u001b[0m\u001b[0;34m\u001b[0m\u001b[0m\n",
            "\u001b[0;32m/usr/local/lib/python3.10/dist-packages/cohere/responses/base.py\u001b[0m in \u001b[0;36m__getattribute__\u001b[0;34m(self, name)\u001b[0m\n\u001b[1;32m     63\u001b[0m \u001b[0;34m\u001b[0m\u001b[0m\n\u001b[1;32m     64\u001b[0m     \u001b[0;32mdef\u001b[0m \u001b[0m__getattribute__\u001b[0m\u001b[0;34m(\u001b[0m\u001b[0mself\u001b[0m\u001b[0;34m,\u001b[0m \u001b[0mname\u001b[0m\u001b[0;34m:\u001b[0m \u001b[0mstr\u001b[0m\u001b[0;34m)\u001b[0m \u001b[0;34m->\u001b[0m \u001b[0mAny\u001b[0m\u001b[0;34m:\u001b[0m\u001b[0;34m\u001b[0m\u001b[0;34m\u001b[0m\u001b[0m\n\u001b[0;32m---> 65\u001b[0;31m         \u001b[0mattr\u001b[0m \u001b[0;34m=\u001b[0m \u001b[0msuper\u001b[0m\u001b[0;34m(\u001b[0m\u001b[0;34m)\u001b[0m\u001b[0;34m.\u001b[0m\u001b[0m__getattribute__\u001b[0m\u001b[0;34m(\u001b[0m\u001b[0mname\u001b[0m\u001b[0;34m)\u001b[0m\u001b[0;34m\u001b[0m\u001b[0;34m\u001b[0m\u001b[0m\n\u001b[0m\u001b[1;32m     66\u001b[0m         \u001b[0;32mif\u001b[0m \u001b[0misinstance\u001b[0m\u001b[0;34m(\u001b[0m\u001b[0mattr\u001b[0m\u001b[0;34m,\u001b[0m \u001b[0mAsyncAttribute\u001b[0m\u001b[0;34m)\u001b[0m\u001b[0;34m:\u001b[0m\u001b[0;34m\u001b[0m\u001b[0;34m\u001b[0m\u001b[0m\n\u001b[1;32m     67\u001b[0m             \u001b[0;32mreturn\u001b[0m \u001b[0mattr\u001b[0m\u001b[0;34m.\u001b[0m\u001b[0mresolve\u001b[0m\u001b[0;34m(\u001b[0m\u001b[0;34m)\u001b[0m\u001b[0;34m\u001b[0m\u001b[0;34m\u001b[0m\u001b[0m\n",
            "\u001b[0;31mAttributeError\u001b[0m: 'Embeddings' object has no attribute 'cluster_ids'"
          ]
        }
      ],
      "source": [
        "# prompt: plot the clusters in embedding_map\n",
        "\n",
        "plt.scatter(*embedding_umap.T, c=response.cluster_ids, cmap='tab10')\n",
        "plt.title('UMAP visualization of document clusters')\n",
        "plt.show()"
      ]
    }
  ],
  "metadata": {
    "colab": {
      "provenance": []
    },
    "kernelspec": {
      "display_name": "Python 3",
      "name": "python3"
    },
    "language_info": {
      "codemirror_mode": {
        "name": "ipython",
        "version": 3
      },
      "file_extension": ".py",
      "mimetype": "text/x-python",
      "name": "python",
      "nbconvert_exporter": "python",
      "pygments_lexer": "ipython3",
      "version": "3.8.16"
    }
  },
  "nbformat": 4,
  "nbformat_minor": 0
}